{
 "cells": [
  {
   "cell_type": "code",
   "execution_count": 1,
   "id": "273b3cfc",
   "metadata": {
    "pycharm": {
     "name": "#%%\n"
    }
   },
   "outputs": [],
   "source": [
    "import numpy as np\n",
    "import cv2\n",
    "import glob"
   ]
  },
  {
   "cell_type": "code",
   "execution_count": 2,
   "id": "offensive-support",
   "metadata": {},
   "outputs": [
    {
     "data": {
      "text/plain": "array([[0, 0, 0, ..., 0, 0, 0],\n       [0, 0, 0, ..., 0, 0, 0],\n       [0, 0, 0, ..., 0, 0, 0],\n       ...,\n       [0, 0, 0, ..., 0, 0, 0],\n       [0, 0, 0, ..., 0, 0, 0],\n       [0, 0, 0, ..., 0, 0, 0]], dtype=uint8)"
     },
     "execution_count": 2,
     "metadata": {},
     "output_type": "execute_result"
    }
   ],
   "source": [
    "img_bgr = cv2.imread('findlazer2.png')                  # read rgb file\n",
    "img_hsv = cv2.cvtColor(img_bgr, cv2.COLOR_BGR2HSV)      # transform to HSV\n",
    "img_bgr2  = img_bgr.copy()\n",
    "greenLower = (29, 86, 6)\n",
    "greenUpper = (64, 255, 255)                  \n",
    "img_flag = cv2.inRange(img_hsv, greenLower, greenUpper)       # red flag\n",
    " \n",
    "## 形态学滤波   \n",
    "img_morph = img_flag.copy()                             # copy\n",
    "cv2.erode(img_morph, (3,3), img_morph, iterations= 3)   # erode\n",
    "cv2.dilate(img_morph, (3,3), img_morph, iterations= 3)  # dilate\n"
   ]
  },
  {
   "cell_type": "code",
   "execution_count": 3,
   "id": "thirty-coalition",
   "metadata": {},
   "outputs": [
    {
     "name": "stdout",
     "output_type": "stream",
     "text": [
      "Size: (218, 223)\n",
      "Centroid: (65.5, 54.5)\n"
     ]
    },
    {
     "data": {
      "text/plain": "array([[[232, 232, 232],\n        [232, 232, 232],\n        [232, 232, 232],\n        ...,\n        [232, 232, 232],\n        [232, 232, 232],\n        [232, 232, 232]],\n\n       [[232, 232, 232],\n        [232, 232, 232],\n        [232, 232, 232],\n        ...,\n        [  0,   0,   0],\n        [102, 102, 102],\n        [232, 232, 232]],\n\n       [[232, 232, 232],\n        [232, 232, 232],\n        [232, 232, 232],\n        ...,\n        [  0,   0,   0],\n        [102, 102, 102],\n        [232, 232, 232]],\n\n       ...,\n\n       [[210, 211, 209],\n        [210, 211, 209],\n        [210, 211, 209],\n        ...,\n        [218, 219, 217],\n        [218, 219, 217],\n        [217, 218, 216]],\n\n       [[210, 211, 209],\n        [210, 211, 209],\n        [210, 211, 209],\n        ...,\n        [218, 219, 217],\n        [218, 218, 217],\n        [218, 217, 216]],\n\n       [[210, 211, 209],\n        [210, 211, 209],\n        [210, 211, 209],\n        ...,\n        [217, 218, 216],\n        [217, 218, 216],\n        [218, 218, 217]]], dtype=uint8)"
     },
     "execution_count": 3,
     "metadata": {},
     "output_type": "execute_result"
    }
   ],
   "source": [
    "cnts, _ = cv2.findContours(img_morph, cv2.RETR_TREE, cv2.CHAIN_APPROX_SIMPLE)\n",
    "cnts_sort = sorted(cnts, key= cv2.contourArea, reverse= True)\n",
    "box = cv2.minAreaRect(cnts_sort[0])\n",
    "points = np.int0(cv2.boxPoints(box))\n",
    "\n",
    "cen_v = (points[0,0] + points[2,0]) / 2\n",
    "cen_h = (points[0,1] + points[2,1]) / 2\n",
    "rows, cols = img_bgr.shape[:2]\n",
    "print ('Size: (' + str(cols) + ', ' + str(rows) + ')')\n",
    "print ('Centroid: (' + str(cen_h) + ', ' + str(cen_v) + ')')\n",
    "\n",
    "cv2.drawContours(img_bgr, [points], -1, (255,0,0), 2)"
   ]
  },
  {
   "cell_type": "code",
   "execution_count": null,
   "id": "applied-warren",
   "metadata": {
    "pycharm": {
     "is_executing": true
    }
   },
   "outputs": [],
   "source": [
    "cv2.imshow('origin with bracket', img_bgr)\n",
    "cv2.imshow('origin', img_bgr2)\n",
    "cv2.imshow('hsv', img_hsv) \n",
    "cv2.imshow(\"Range subtracted\", img_flag)\n",
    "cv2.imshow('Eroded and Dilated', img_morph)\n",
    "cv2.waitKey(0)\n",
    "cv2.waitKey(0)\n",
    "cv2.destroyAllWindows()"
   ]
  }
 ],
 "metadata": {
  "kernelspec": {
   "display_name": "Python 3",
   "language": "python",
   "name": "python3"
  },
  "language_info": {
   "codemirror_mode": {
    "name": "ipython",
    "version": 3
   },
   "file_extension": ".py",
   "mimetype": "text/x-python",
   "name": "python",
   "nbconvert_exporter": "python",
   "pygments_lexer": "ipython3",
   "version": "3.8.5"
  }
 },
 "nbformat": 4,
 "nbformat_minor": 5
}