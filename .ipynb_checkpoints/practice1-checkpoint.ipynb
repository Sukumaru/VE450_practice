{
 "cells": [
  {
   "cell_type": "code",
   "execution_count": 6,
   "id": "273b3cfc",
   "metadata": {
    "pycharm": {
     "name": "#%%\n"
    }
   },
   "outputs": [],
   "source": [
    "import numpy as np\n",
    "import cv2\n",
    "import glob"
   ]
  },
  {
   "cell_type": "code",
   "execution_count": null,
   "id": "offensive-support",
   "metadata": {},
   "outputs": [],
   "source": [
    "img_bgr = cv2.imread('findlazer2.png')                  # 读取彩色图像\n",
    "img_hsv = cv2.cvtColor(img_bgr, cv2.COLOR_BGR2HSV)      # 转化为 HSV 格式\n",
    "img_bgr2  = img_bgr.copy()\n",
    "greenLower = (29, 86, 6)\n",
    "greenUpper = (64, 255, 255)                  \n",
    "img_flag = cv2.inRange(img_hsv, greenLower, greenUpper)       # 获取红旗部分\n",
    " \n",
    "## 形态学滤波   \n",
    "img_morph = img_flag.copy()                             # 复制图像\n",
    "cv2.erode(img_morph, (3,3), img_morph, iterations= 3)   # 腐蚀运算\n",
    "cv2.dilate(img_morph, (3,3), img_morph, iterations= 3)  # 膨胀运算\n"
   ]
  },
  {
   "cell_type": "code",
   "execution_count": null,
   "id": "thirty-coalition",
   "metadata": {},
   "outputs": [],
   "source": [
    "cnts, _ = cv2.findContours(img_morph, cv2.RETR_TREE, cv2.CHAIN_APPROX_SIMPLE) # 获取图像轮廓\n",
    "cnts_sort = sorted(cnts, key= cv2.contourArea, reverse= True) # 将轮廓包含面积从大到小排列\n",
    "box = cv2.minAreaRect(cnts_sort[0])                     # 选取包含最大面积的轮廓，并得出最小外接矩形\n",
    "points = np.int0(cv2.boxPoints(box))                    # 获得该矩形的四个定点\n",
    "\n",
    "cen_v = (points[0,0] + points[2,0]) / 2                 # 得出横向中心\n",
    "cen_h = (points[0,1] + points[2,1]) / 2                 # 得出纵向中心\n",
    "rows, cols = img_bgr.shape[:2]\n",
    "print 'Size: (' + str(cols) + ', ' + str(rows) + ')'\n",
    "print 'Centroid: (' + str(cen_h) + ', ' + str(cen_v) + ')'\n",
    "\n",
    "cv2.drawContours(img_bgr, [points], -1, (255,0,0), 2)         # 在原图上绘制轮廓"
   ]
  },
  {
   "cell_type": "code",
   "execution_count": null,
   "id": "applied-warren",
   "metadata": {},
   "outputs": [],
   "source": [
    "cv2.imshow('origin', img_bgr) \n",
    "cv2.imshow('origin', img_bgr) \n",
    "cv2.imshow('hsv', img_hsv) \n",
    "cv2.imshow(\"Range subtracted\", img_flag)\n",
    "cv2.imshow('Eroded and Dilated', img_morph)\n",
    "cv2.waitKey(0)\n",
    "cv2.waitKey(0)\n",
    "cv2.destroyAllWindows()"
   ]
  }
 ],
 "metadata": {
  "kernelspec": {
   "display_name": "Python 3",
   "language": "python",
   "name": "python3"
  },
  "language_info": {
   "codemirror_mode": {
    "name": "ipython",
    "version": 3
   },
   "file_extension": ".py",
   "mimetype": "text/x-python",
   "name": "python",
   "nbconvert_exporter": "python",
   "pygments_lexer": "ipython3",
   "version": "3.8.5"
  }
 },
 "nbformat": 4,
 "nbformat_minor": 5
}
